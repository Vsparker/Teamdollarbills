{
 "cells": [
  {
   "cell_type": "code",
   "execution_count": 11,
   "id": "2928e1e8-06cb-4f76-9e69-7b273a13d482",
   "metadata": {},
   "outputs": [
    {
     "name": "stdout",
     "output_type": "stream",
     "text": [
      "34809823.56501904\n",
      "At retirement age. I will have $34809823.56501904\n"
     ]
    }
   ],
   "source": [
    "balance = 0\n",
    "\n",
    "deposit = 20500\n",
    "\n",
    "age = 22\n",
    "\n",
    "retirement_age = 65\n",
    "\n",
    "years_to_retirement = retirement_age - age\n",
    "\n",
    "\n",
    "# average 10 year return on SP500 = 13.48%\n",
    "\n",
    "\n",
    "rate = 13.48\n",
    "\n",
    "true_rate = rate * 0.01\n",
    "\n",
    "\n",
    "i = 0\n",
    "\n",
    "for year in range(years_to_retirement):\n",
    "\n",
    "    balance = balance * (1 + true_rate) + deposit\n",
    "\n",
    "    i += 1\n",
    "\n",
    "print(balance)    \n",
    "\n",
    "print(\"At retirement age. I will have ${}\".format(balance))"
   ]
  },
  {
   "cell_type": "code",
   "execution_count": null,
   "id": "ffacd4c5-0364-46ca-ae2b-85dc51f2d597",
   "metadata": {},
   "outputs": [],
   "source": []
  }
 ],
 "metadata": {
  "kernelspec": {
   "display_name": "Python 3 (ipykernel)",
   "language": "python",
   "name": "python3"
  },
  "language_info": {
   "codemirror_mode": {
    "name": "ipython",
    "version": 3
   },
   "file_extension": ".py",
   "mimetype": "text/x-python",
   "name": "python",
   "nbconvert_exporter": "python",
   "pygments_lexer": "ipython3",
   "version": "3.9.7"
  }
 },
 "nbformat": 4,
 "nbformat_minor": 5
}
