{
 "cells": [
  {
   "cell_type": "code",
   "execution_count": 23,
   "id": "c58574eb-c427-4905-827c-57e911eefda7",
   "metadata": {},
   "outputs": [
    {
     "name": "stdout",
     "output_type": "stream",
     "text": [
      "I will have 5073143.123104047 at 49 years old.\n"
     ]
    }
   ],
   "source": [
    "# FV = PV(1 + R)^n\n",
    "\n",
    "balance = 0\n",
    "deposit = 20500\n",
    "\n",
    "age = 22\n",
    "\n",
    "# average return of SP500 over past 10 years = 13.48%\n",
    "rate = 13.48\n",
    "true_rate = rate * 0.01\n",
    "\n",
    "retirement_value = 5000000\n",
    "while balance < retirement_value:\n",
    "    balance = (balance + deposit)*(1 + true_rate)\n",
    "    age += 1\n",
    "\n",
    "print(\"I will have {} at {} years old.\".format(balance, age))"
   ]
  },
  {
   "cell_type": "code",
   "execution_count": null,
   "id": "a05c1bf7-155c-4722-a4f3-206e4d55bea7",
   "metadata": {},
   "outputs": [],
   "source": []
  }
 ],
 "metadata": {
  "kernelspec": {
   "display_name": "Python 3 (ipykernel)",
   "language": "python",
   "name": "python3"
  },
  "language_info": {
   "codemirror_mode": {
    "name": "ipython",
    "version": 3
   },
   "file_extension": ".py",
   "mimetype": "text/x-python",
   "name": "python",
   "nbconvert_exporter": "python",
   "pygments_lexer": "ipython3",
   "version": "3.9.7"
  }
 },
 "nbformat": 4,
 "nbformat_minor": 5
}
