{
 "cells": [
  {
   "cell_type": "code",
   "execution_count": 1,
   "id": "02f77ce1-0676-4b84-96b6-ad6c8368a0fe",
   "metadata": {},
   "outputs": [
    {
     "name": "stdout",
     "output_type": "stream",
     "text": [
      "39502187.78158361 43\n",
      "At retirement age. I will have $39502187.78158361\n"
     ]
    }
   ],
   "source": [
    "balance = 0\n",
    "\n",
    "deposit = 20500\n",
    "\n",
    "\n",
    "age = 22\n",
    "\n",
    "retirement_age = 65\n",
    "\n",
    "years_to_retirement = retirement_age - age\n",
    "\n",
    "\n",
    "# average 10 year return on SP500 = 13.48%\n",
    "\n",
    "\n",
    "rate = 13.48\n",
    "\n",
    "true_rate = rate * 0.01\n",
    "\n",
    "\n",
    "i = 0\n",
    "\n",
    "for year in range(years_to_retirement):\n",
    "\n",
    "    balance = (balance + deposit)*(1 + true_rate)\n",
    "\n",
    "    i += 1\n",
    "\n",
    "print(balance, i)    \n",
    "\n",
    "print(\"At retirement age. I will have ${}\".format(balance))\n",
    "\n",
    "\n",
    "\n"
   ]
  },
  {
   "cell_type": "code",
   "execution_count": null,
   "id": "ea679b10-58d8-4784-88c8-4d527be3b75c",
   "metadata": {},
   "outputs": [],
   "source": []
  }
 ],
 "metadata": {
  "kernelspec": {
   "display_name": "Python 3 (ipykernel)",
   "language": "python",
   "name": "python3"
  },
  "language_info": {
   "codemirror_mode": {
    "name": "ipython",
    "version": 3
   },
   "file_extension": ".py",
   "mimetype": "text/x-python",
   "name": "python",
   "nbconvert_exporter": "python",
   "pygments_lexer": "ipython3",
   "version": "3.9.7"
  }
 },
 "nbformat": 4,
 "nbformat_minor": 5
}
